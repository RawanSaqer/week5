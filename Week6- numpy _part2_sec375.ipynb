{
 "cells": [
  {
   "cell_type": "markdown",
   "metadata": {},
   "source": [
    "# Python Numpy\n",
    "- Numpy is a general-purpose array-processing package. It provides a high-performance multidimensional array object, and tools for working with these arrays. It is the fundamental package for scientific computing with Python."
   ]
  },
  {
   "cell_type": "markdown",
   "metadata": {},
   "source": [
    "##  Creating a Numpy Array"
   ]
  },
  {
   "cell_type": "code",
   "execution_count": 1,
   "metadata": {},
   "outputs": [],
   "source": [
    "import numpy as np"
   ]
  },
  {
   "cell_type": "markdown",
   "metadata": {},
   "source": [
    "### Convert Python List to numpy Arrays"
   ]
  },
  {
   "cell_type": "code",
   "execution_count": 3,
   "metadata": {},
   "outputs": [],
   "source": [
    "lst=[2,4,6]\n",
    "arr=np.asarray(lst)"
   ]
  },
  {
   "cell_type": "code",
   "execution_count": null,
   "metadata": {},
   "outputs": [],
   "source": []
  },
  {
   "cell_type": "markdown",
   "metadata": {},
   "source": [
    "### What is the advantage of numpy over the list?\n",
    "\n"
   ]
  },
  {
   "cell_type": "code",
   "execution_count": 5,
   "metadata": {},
   "outputs": [],
   "source": [
    "def sigmoid (a):\n",
    "    return 1/(1+np.exp(-a))"
   ]
  },
  {
   "cell_type": "code",
   "execution_count": 18,
   "metadata": {},
   "outputs": [
    {
     "name": "stdout",
     "output_type": "stream",
     "text": [
      "[0.88079708 0.98201379 0.99752738]\n",
      "\n",
      "[[0.99966465 0.5        0.26894142 0.99999386 0.04742587 0.5       ]\n",
      " [0.98201379 0.95257413 0.9999833  0.99752738 0.99999386 0.04742587]\n",
      " [0.04742587 0.98201379 0.26894142 0.99908895 0.99330715 0.99999917]\n",
      " [0.5        0.99999774 0.99908895 0.98201379 0.88079708 0.99999917]]\n",
      "[[ 8  0 -1 12 -3  0]\n",
      " [-3  4 -1  7  5 14]]\n"
     ]
    }
   ],
   "source": [
    "print(sigmoid(arr))\n",
    "arr2d=np.random.randint(-3,20, size=(4,6))\n",
    "print()\n",
    "print(sigmoid(arr2d))\n",
    "print(arr2d[::2,:])"
   ]
  },
  {
   "attachments": {
    "Screen%20Shot%202020-10-18%20at%2012.09.38%20PM.png": {
     "image/png": "[encoded data removed]"
    }
   },
   "cell_type": "markdown",
   "metadata": {},
   "source": [
    "![Screen%20Shot%202020-10-18%20at%2012.09.38%20PM.png](attachment:Screen%20Shot%202020-10-18%20at%2012.09.38%20PM.png)"
   ]
  },
  {
   "cell_type": "code",
   "execution_count": 16,
   "metadata": {},
   "outputs": [
    {
     "name": "stdout",
     "output_type": "stream",
     "text": [
      "[[0. 0.]\n",
      " [0. 0.]\n",
      " [0. 0.]\n",
      " [0. 0.]]\n",
      "[[1. 0. 0. 0. 0.]\n",
      " [0. 1. 0. 0. 0.]\n",
      " [0. 0. 1. 0. 0.]\n",
      " [0. 0. 0. 1. 0.]\n",
      " [0. 0. 0. 0. 1.]]\n",
      "(4, 2)\n"
     ]
    }
   ],
   "source": [
    "## create an array of zeros \n",
    "zerosArr=np.zeros((4,2))\n",
    "print(zerosArr)\n",
    "## create an array of ones\n",
    "\n",
    "\n",
    "## create identity matrix\n",
    "print(np.eye(5))\n",
    "# zeros_like used to return an array of similar shapes and sizes with values of elements \n",
    "#of array replaced with zeros.\n",
    "zero2=np.zeros_like(zerosArr)\n",
    "print(zero2.shape)\n"
   ]
  },
  {
   "cell_type": "markdown",
   "metadata": {},
   "source": [
    "## Access Array Elements\n",
    "- Array indexing is the same as accessing an array element.\n",
    "\n",
    "- You can access an array element by referring to its index number.\n",
    "\n",
    "- The indexes in NumPy arrays start with 0, meaning that the first element has index 0, and the second has index 1 etc."
   ]
  },
  {
   "cell_type": "code",
   "execution_count": null,
   "metadata": {},
   "outputs": [],
   "source": []
  },
  {
   "cell_type": "code",
   "execution_count": null,
   "metadata": {},
   "outputs": [],
   "source": []
  },
  {
   "cell_type": "markdown",
   "metadata": {},
   "source": [
    "## Slicing in python means taking elements from one given index to another given index.\n",
    "\n",
    "- We pass slice instead of index like this: [start:end].\n",
    "\n",
    "- We can also define the step, like this: [start:end:step].\n",
    "\n",
    "- If we don't pass start its considered 0\n",
    "\n",
    "- If we don't pass end its considered length of array in that dimension\n",
    "\n",
    "- If we don't pass step its considered 1"
   ]
  },
  {
   "cell_type": "code",
   "execution_count": null,
   "metadata": {},
   "outputs": [],
   "source": []
  },
  {
   "cell_type": "markdown",
   "metadata": {},
   "source": [
    "## COPY"
   ]
  },
  {
   "cell_type": "code",
   "execution_count": 36,
   "metadata": {},
   "outputs": [
    {
     "name": "stdout",
     "output_type": "stream",
     "text": [
      "[[ 9 12 18 -3  0  0]\n",
      " [ 4  6 16 18 15  1]\n",
      " [ 3  9 -2  3  4 11]\n",
      " [14  2 10  5  6 17]]\n",
      "\n",
      "[[ 9 12 18 -3  0  0]\n",
      " [ 4  6 16 18 15  1]\n",
      " [ 3  9 -2  3  4 11]\n",
      " [14  2 10  5  6 17]]\n",
      "[[ 9 12]\n",
      " [ 4  6]\n",
      " [ 3  9]\n",
      " [14  2]]\n"
     ]
    }
   ],
   "source": [
    "## copy array\n",
    "np.random.seed(0)\n",
    "arr3=np.random.randint(-3,20, size=(4,6))\n",
    "print(arr3)\n",
    "arr3_copy=np.copy(arr3)\n",
    "print()\n",
    "print(arr3_copy)\n",
    "# copy subarray:\n",
    "copy_sub_array=arr3[:,:2].copy()\n",
    "print(copy_sub_array)\n",
    "#### x2_sub_copy = x2[:2, :2].copy()"
   ]
  },
  {
   "cell_type": "code",
   "execution_count": 46,
   "metadata": {},
   "outputs": [
    {
     "name": "stdout",
     "output_type": "stream",
     "text": [
      "[1 2] [ 3 99] [99  3  2  1]\n",
      "[1 2 3] [99 99  3] [2 1 4]\n"
     ]
    }
   ],
   "source": [
    "x = [1, 2, 3, 99, 99, 3, 2, 1]\n",
    "x1, x2, x3 = np.split(x, [ 2,4])\n",
    "print(x1, x2, x3)\n",
    "\n",
    "x11 = [1, 2, 3, 99, 99, 3, 2, 1,4]\n",
    "x1, x2, x3 = np.split(x11,[3,6])\n",
    "print(x1, x2, x3)"
   ]
  },
  {
   "cell_type": "markdown",
   "metadata": {},
   "source": [
    "## Reshaping arrays"
   ]
  },
  {
   "cell_type": "code",
   "execution_count": 60,
   "metadata": {},
   "outputs": [
    {
     "name": "stdout",
     "output_type": "stream",
     "text": [
      "[[ 1  2  3]\n",
      " [ 4  5  6]\n",
      " [ 7  8  9]\n",
      " [10 11 12]]\n",
      "\n",
      "\n",
      "[[[ 1  2  3]\n",
      "  [ 4  5  6]]\n",
      "\n",
      " [[ 7  8  9]\n",
      "  [10 11 12]]]\n",
      "(6, 2)\n",
      "shape: (4, 2, 2)\n",
      "arr11:\n",
      "[1 2 3 4 5 6]\n",
      "shape: (6,)\n",
      "arr12:\n",
      "[1 2 3 4 5 6]\n"
     ]
    }
   ],
   "source": [
    "xs1=np.array([1, 2, 3, 4, 5, 6, 7, 8, 9, 10, 11, 12])\n",
    "xs2=xs1.reshape((4,3))\n",
    "print(xs2)\n",
    "print()\n",
    "xs3=xs1.reshape(2,2,3)\n",
    "print()\n",
    "print(xs3)\n",
    "xs6=xs3.reshape(6,-1)##2\n",
    "print(xs6.shape)\n",
    "\n",
    "\n",
    "xs4=np.array([1, 2, 3, 4, 5, 6, 7, 8, 9, 10, 11, 12,13,14,15,16])\n",
    "\n",
    "xs20=xs4.reshape(4,-1,2)\n",
    "print('shape:',xs20.shape)\n",
    "\n",
    "\n",
    "## Flattening the arrays ## convert to one dim array\n",
    "arr10 = np.array([[1, 2, 3], [4, 5, 6]])\n",
    "\n",
    "# method 1: # flatten\n",
    "arr11=arr10.flatten()\n",
    "print('arr11:')\n",
    "print(arr11)\n",
    "print('shape:',arr11.shape)\n",
    "\n",
    "# method 2 (ravel)\n",
    "arr12=arr10.ravel()\n",
    "print('arr12:')\n",
    "print(arr12)\n",
    "\n"
   ]
  },
  {
   "cell_type": "markdown",
   "metadata": {},
   "source": [
    "## Arithmetic Operations\n",
    "Input arrays for performing arithmetic operations such as add(), subtract(), multiply(), and divide() "
   ]
  },
  {
   "cell_type": "markdown",
   "metadata": {},
   "source": [
    "#### NumPy matrix multiplication can be done by the following three methods.\n",
    "\n",
    "- multiply(): element-wise matrix multiplication.\n",
    "- matmul(): matrix product of two arrays.\n",
    "- dot(): dot product of two arrays."
   ]
  },
  {
   "cell_type": "code",
   "execution_count": 72,
   "metadata": {},
   "outputs": [
    {
     "name": "stdout",
     "output_type": "stream",
     "text": [
      "[[ 9 12 18 -3  0  0]\n",
      " [ 4  6 16 18 15  1]\n",
      " [ 3  9 -2  3  4 11]\n",
      " [14  2 10  5  6 17]]\n",
      "\n",
      "[[11 14 20 -1  2  2]\n",
      " [ 6  8 18 20 17  3]\n",
      " [ 5 11  0  5  6 13]\n",
      " [16  4 12  7  8 19]]\n",
      "[[20 26 38 -4  2  2]\n",
      " [10 14 34 38 32  4]\n",
      " [ 8 20 -2  8 10 24]\n",
      " [30  6 22 12 14 36]]\n",
      "\n",
      "[[20 26 38 -4  2  2]\n",
      " [10 14 34 38 32  4]\n",
      " [ 8 20 -2  8 10 24]\n",
      " [30  6 22 12 14 36]]\n",
      "[[20 26 38 -4  2  2]\n",
      " [10 14 34 38 32  4]\n",
      " [ 8 20 -2  8 10 24]\n",
      " [30  6 22 12 14 36]]\n",
      "(6, 4)\n"
     ]
    }
   ],
   "source": [
    "np.random.seed(0)\n",
    "arr100=np.random.randint(-3,20, size=(4,6))\n",
    "print(arr100)\n",
    "print()\n",
    "arr101=arr100+2\n",
    "print(arr101)\n",
    "arr102=arr100+arr101\n",
    "print(arr102)\n",
    "print()\n",
    "arr103=np.add(arr100,arr101)\n",
    "print(arr102)\n",
    "\n",
    "arr104=np.subtract(arr100,arr101)\n",
    "print(arr102)\n",
    "\n",
    "######### transpose \n",
    "# method 1\n",
    "arr105=arr100.T\n",
    "print(arr105.shape)\n",
    "\n",
    "\n",
    "## method 2\n",
    "arr106=np.transpose(arr103)"
   ]
  },
  {
   "cell_type": "markdown",
   "metadata": {},
   "source": [
    "## concatenate two arrays"
   ]
  },
  {
   "cell_type": "code",
   "execution_count": 73,
   "metadata": {},
   "outputs": [
    {
     "name": "stdout",
     "output_type": "stream",
     "text": [
      "[ 1  3 10 30]\n"
     ]
    }
   ],
   "source": [
    "a1=np.array([1,3])\n",
    "a2=np.array([10,30])\n",
    "a3=np.concatenate((a1,a2))\n",
    "print(a3)"
   ]
  },
  {
   "cell_type": "code",
   "execution_count": 91,
   "metadata": {},
   "outputs": [
    {
     "name": "stdout",
     "output_type": "stream",
     "text": [
      "(4, 2)\n",
      "(2, 4)\n",
      " joint by stack\n",
      "(2, 2, 2)\n",
      "(2, 4)\n",
      "(4, 2)\n"
     ]
    }
   ],
   "source": [
    "# Join two 2-D arrays along rows (axis=1): np.concatenate((arr1, arr2), axis=1)\n",
    "np.random.seed(0)\n",
    "arr30=np.random.randint(-3,20, size=(2,2))\n",
    "arr31=np.random.randint(-3,20, size=(2,2))\n",
    "\n",
    "arr32=np.concatenate((arr30,arr31))\n",
    "print(arr32.shape)\n",
    "\n",
    "arr33=np.concatenate((arr30,arr31),axis=1)\n",
    "print(arr33.shape)\n",
    "## Joining Arrays Using Stack Functions np.stack((arr1, arr2), axis=1)\n",
    "print(' joint by stack')\n",
    "arr37=np.stack((arr30,arr31))\n",
    "print(arr37.shape)\n",
    "#Stacking Along Rows\n",
    "arr37=np.hstack((arr30,arr31))\n",
    "print(arr37.shape)\n",
    "\n",
    "# Stacking Along Columns\n",
    "\n",
    "\n",
    "arr37=np.vstack((arr30,arr31))\n",
    "print(arr37.shape)"
   ]
  },
  {
   "cell_type": "code",
   "execution_count": 84,
   "metadata": {},
   "outputs": [
    {
     "name": "stdout",
     "output_type": "stream",
     "text": [
      "[[ 9 12 18]\n",
      " [-3  0  0]\n",
      " [ 4  6 16]\n",
      " [18 15  1]\n",
      " [ 3  9 -2]\n",
      " [ 3  4 11]]\n",
      "124\n",
      "[39 -3 26 34 10 18]\n",
      "[5.66666667 7.66666667 7.33333333]\n"
     ]
    }
   ],
   "source": [
    "np.random.seed(0)\n",
    "a40=np.random.randint(-3,20, size=(6,3))\n",
    "print(a40)\n",
    "print(np.sum(a40))\n",
    "# if axis=0 , get the sum/ mean etc by column\n",
    "# if axis=1, get the sum/mean etc by row\n",
    "print(np.sum(a40,axis=1))\n",
    "print(np.mean(a40,axis=0))"
   ]
  },
  {
   "cell_type": "markdown",
   "metadata": {},
   "source": [
    "## Random Numbers in NumPy"
   ]
  },
  {
   "cell_type": "code",
   "execution_count": 98,
   "metadata": {},
   "outputs": [],
   "source": []
  },
  {
   "cell_type": "code",
   "execution_count": 9,
   "metadata": {},
   "outputs": [
    {
     "name": "stdout",
     "output_type": "stream",
     "text": [
      "[[0.20464863 0.61927097 0.29965467 0.26682728 0.62113383]\n",
      " [0.52914209 0.13457995 0.51357812 0.18443987 0.78533515]\n",
      " [0.85397529 0.49423684 0.84656149 0.07964548 0.50524609]\n",
      " [0.0652865  0.42812233 0.09653092 0.12715997 0.59674531]]\n",
      "[[7 3]\n",
      " [7 9]]\n"
     ]
    }
   ],
   "source": [
    "np.random.seed(2)\n",
    "arrR=np.random.randint(2,10,size=(3,4))\n",
    "\n",
    "\n",
    "\n",
    "\n",
    "## np.random.random\n",
    "arrR1=np.random.random((4,5))\n",
    "print(arrR1)\n",
    "\n",
    "x = np.random.choice([3, 5, 7, 9],size=(2,2) )\n",
    "print(x)"
   ]
  },
  {
   "cell_type": "markdown",
   "metadata": {},
   "source": [
    "## np.random.seed()\n",
    "Seed function is used to save the state of a random function, so that it can generate same random numbers on multiple executions of the code on the same machine or on different machines (for a specific seed value). The seed value is the previous value number generated by the generator. For the first time when there is no previous value, it uses current system time."
   ]
  },
  {
   "cell_type": "code",
   "execution_count": 67,
   "metadata": {},
   "outputs": [],
   "source": [
    "np.random.seed(0)"
   ]
  },
  {
   "cell_type": "code",
   "execution_count": 10,
   "metadata": {},
   "outputs": [
    {
     "data": {
      "text/plain": [
       "array([2, 8, 9, 3, 9, 8, 2, 7, 9, 6, 4, 1, 1, 3, 9, 9, 3, 7, 6, 7, 7, 7,\n",
       "       4, 9, 3, 2, 5, 9, 2, 7, 6, 2, 3, 5, 8, 7, 5, 6, 9, 4, 1, 1, 6, 8,\n",
       "       6, 1, 9, 7, 6, 2])"
      ]
     },
     "execution_count": 10,
     "metadata": {},
     "output_type": "execute_result"
    }
   ],
   "source": [
    "\n",
    "np.random.randint(low = 1, high = 10, size = 50)"
   ]
  },
  {
   "cell_type": "markdown",
   "metadata": {},
   "source": [
    "## numpy.unique\n",
    "- This function returns an array of unique elements in the input array. \n",
    "- The function can be able to return a tuple of array of unique vales and an array of associated indices"
   ]
  },
  {
   "cell_type": "code",
   "execution_count": 102,
   "metadata": {
    "scrolled": true
   },
   "outputs": [
    {
     "name": "stdout",
     "output_type": "stream",
     "text": [
      "[ 1  2  3  4  6 10]\n",
      "[ 1  2  3  4  6 10] [2 3 5 7 8 0]\n",
      "[ 1  2  3  4  6 10] [2 2 1 1 3 2]\n",
      "\n",
      "[[1 0 0]\n",
      " [2 3 4]]\n"
     ]
    }
   ],
   "source": [
    "a = np.array([10,10,1,2,1,3,2,4,6,6,6]) \n",
    "a1=np.unique(a)\n",
    "print(a1)\n",
    "\n",
    "\n",
    "### u, indices= np.unique(a, return_index=True)\n",
    "u, indices= np.unique(a, return_index=True)\n",
    "print(u, indices)\n",
    "\n",
    "#####\n",
    "\n",
    "u, count1= np.unique(a, return_counts=True)\n",
    "print(u, count1)\n",
    "\n",
    "## Return the unique rows of a 2D array\n",
    "aa = np.array([[1, 0, 0], [1, 0, 0], [2, 3, 4]])\n",
    "a3=np.unique(aa,axis=0)\n",
    "print()\n",
    "print(a3)\n",
    "\n",
    "###%timeit np.min(a)\n"
   ]
  },
  {
   "cell_type": "code",
   "execution_count": 97,
   "metadata": {},
   "outputs": [
    {
     "name": "stdout",
     "output_type": "stream",
     "text": [
      "4\n"
     ]
    }
   ],
   "source": []
  },
  {
   "cell_type": "markdown",
   "metadata": {},
   "source": [
    "## Aggregations: Min, Max, and Everything In Between\n",
    "- sum, min, max, mean, and std"
   ]
  },
  {
   "cell_type": "code",
   "execution_count": 112,
   "metadata": {},
   "outputs": [
    {
     "name": "stdout",
     "output_type": "stream",
     "text": [
      "[[2 3]\n",
      " [4 5]\n",
      " [6 7]\n",
      " [8 9]]\n",
      "2\n",
      "9\n",
      "[3 5 7 9]\n"
     ]
    }
   ],
   "source": [
    "arr=np.arange(2,10).reshape(4,2)\n",
    "print(arr)\n",
    "print(np.min(arr))\n",
    "print(np.max(arr))\n",
    "\n",
    "print(np.max(arr,axis=1))"
   ]
  },
  {
   "cell_type": "markdown",
   "metadata": {},
   "source": [
    "### Multi dimensional aggregates"
   ]
  },
  {
   "cell_type": "code",
   "execution_count": 16,
   "metadata": {},
   "outputs": [
    {
     "name": "stdout",
     "output_type": "stream",
     "text": [
      "11\n"
     ]
    }
   ],
   "source": [
    "arr20=np.array([3,5,2,0,7,2])\n",
    "\n"
   ]
  },
  {
   "cell_type": "markdown",
   "metadata": {},
   "source": [
    "#### - Aggregation functions take an additional argument specifying the axis along which the aggregate is computed. For example, we can find the minimum value within each column by specifying axis=0:"
   ]
  },
  {
   "cell_type": "code",
   "execution_count": 21,
   "metadata": {},
   "outputs": [],
   "source": [
    "arr2D=np.random.random((4,6))\n",
    "\n"
   ]
  },
  {
   "cell_type": "markdown",
   "metadata": {},
   "source": [
    "### argmin and argmax\n",
    "- argmin: Returns the indices of the minimum values along an axis.\n",
    "- argmax: Returns the indices of the maximum values along an axis."
   ]
  },
  {
   "cell_type": "code",
   "execution_count": 116,
   "metadata": {},
   "outputs": [
    {
     "name": "stdout",
     "output_type": "stream",
     "text": [
      "4\n",
      "1\n"
     ]
    }
   ],
   "source": [
    "arr1000=np.array([1,10,-1,2,-30])\n",
    "#print(min(arr1000))\n",
    "min_a=np.argmin(arr1000)\n",
    "print(min_a)\n",
    "######\n",
    "max_a=np.argmax(arr1000)\n",
    "print(max_a)"
   ]
  },
  {
   "cell_type": "markdown",
   "metadata": {},
   "source": [
    "### argsort"
   ]
  },
  {
   "cell_type": "code",
   "execution_count": 129,
   "metadata": {
    "scrolled": true
   },
   "outputs": [
    {
     "name": "stdout",
     "output_type": "stream",
     "text": [
      "[4 2 0 3 6 5 1 7 8]\n",
      "[-30, -1, 1, 2, 3, 5, 10, 1000, 2000]\n",
      "[4 2 0]\n",
      "[1 7 8]\n",
      "[8 7 1]\n"
     ]
    }
   ],
   "source": [
    "arr1000=np.array([1,10,-1,2,-30,5,3,1000,2000])\n",
    "ind=np.argsort(arr1000)\n",
    "print(ind)\n",
    "lst1=[]\n",
    "for i in ind:\n",
    "      lst1.append(arr1000[i])\n",
    "print(lst1)\n",
    "#### indices of k min values\n",
    "k=3\n",
    "ind1=np.argsort(arr1000)[:k]\n",
    "print(ind1)\n",
    "ind2=arr1000.argsort()[-k:]\n",
    "print(ind2)\n",
    "########### \n",
    "ind2=(-arr1000).argsort()[:k]\n",
    "print(ind2)"
   ]
  },
  {
   "cell_type": "markdown",
   "metadata": {},
   "source": [
    "#### Returns the indices that would sort an array.\n",
    "- Returns the indices that would sort an array.\n",
    "- Perform an indirect sort along the given axis using the algorithm specified by the kind keyword. It returns an array of indices of the same shape as a that index data along the given axis in sorted order."
   ]
  },
  {
   "cell_type": "code",
   "execution_count": 39,
   "metadata": {},
   "outputs": [
    {
     "data": {
      "text/plain": [
       "array([4, 0, 7, 3, 1, 2, 5, 6])"
      ]
     },
     "execution_count": 39,
     "metadata": {},
     "output_type": "execute_result"
    }
   ],
   "source": [
    "A = np.array([1, 7, 9, 2, 0.1, 17, 17, 1.5])\n",
    "##np.argsort(A)"
   ]
  },
  {
   "cell_type": "code",
   "execution_count": 136,
   "metadata": {},
   "outputs": [
    {
     "name": "stdout",
     "output_type": "stream",
     "text": [
      "[[10 11 12]\n",
      " [13 14 15]]\n",
      "[0 0 0]\n",
      "A:\n",
      "[[ 1.   7. ]\n",
      " [ 9.   2. ]\n",
      " [ 0.1 17. ]\n",
      " [17.   1.5]]\n",
      "4\n",
      "(2, 0)\n"
     ]
    }
   ],
   "source": [
    "a = np.arange(6).reshape(2,3) + 10\n",
    "print(a)\n",
    "\n",
    "print(np.argmin(a,axis=0))\n",
    "\n",
    "A = np.array([1, 7, 9, 2, 0.1, 17, 17, 1.5]).reshape(4,2)\n",
    "print('A:')\n",
    "print(A)\n",
    "print(A.argmin())\n",
    "## Indices of the minimum elements of a N-dimensional array:\n",
    "ind = np.unravel_index(np.argmin(A, axis=None), A.shape)\n",
    "print(ind)"
   ]
  },
  {
   "cell_type": "markdown",
   "metadata": {},
   "source": [
    "### NumPy - Broadcasting"
   ]
  },
  {
   "cell_type": "code",
   "execution_count": null,
   "metadata": {},
   "outputs": [],
   "source": []
  },
  {
   "cell_type": "code",
   "execution_count": 141,
   "metadata": {},
   "outputs": [
    {
     "name": "stdout",
     "output_type": "stream",
     "text": [
      "[[ 0.  0.  0.]\n",
      " [10. 10. 10.]\n",
      " [20. 20. 20.]\n",
      " [30. 30. 30.]]\n",
      "\n",
      "[0. 1. 2.]\n",
      "[[ 0.  1.  2.]\n",
      " [10. 11. 12.]\n",
      " [20. 21. 22.]\n",
      " [30. 31. 32.]]\n"
     ]
    }
   ],
   "source": [
    "a = np.array([[0.0,0.0,0.0],[10.0,10.0,10.0],[20.0,20.0,20.0],[30.0,30.0,30.0]]) \n",
    "print(a)\n",
    "print()\n",
    "\n",
    "b = np.array([0., 1.0,2.0])  \n",
    "print(b)\n",
    "print(a+b)"
   ]
  },
  {
   "cell_type": "code",
   "execution_count": 143,
   "metadata": {},
   "outputs": [
    {
     "name": "stdout",
     "output_type": "stream",
     "text": [
      "[[0 1 2]\n",
      " [3 4 5]\n",
      " [6 7 8]]\n",
      "[[100 201 302]\n",
      " [103 204 305]\n",
      " [106 207 308]]\n"
     ]
    }
   ],
   "source": [
    "c=np.arange(9).reshape(3,3)\n",
    "print(c)\n",
    "d=np.array([100,200,300])\n",
    "print(c+d)"
   ]
  },
  {
   "attachments": {
    "broadcast.jpg": {
     "image/jpeg": "[encoded data removed]"
    }
   },
   "cell_type": "markdown",
   "metadata": {},
   "source": [
    "![broadcast.jpg](attachment:broadcast.jpg)"
   ]
  },
  {
   "cell_type": "markdown",
   "metadata": {},
   "source": [
    "### Euclidean distance"
   ]
  },
  {
   "cell_type": "code",
   "execution_count": 33,
   "metadata": {},
   "outputs": [
    {
     "name": "stdout",
     "output_type": "stream",
     "text": [
      "[ 3.74165739 13.92838828 31.20897307 48.51803788]\n"
     ]
    }
   ],
   "source": [
    "res=np.sqrt(np.sum(np.square(a-b), axis=1)) \n",
    "print(res)"
   ]
  },
  {
   "cell_type": "code",
   "execution_count": 154,
   "metadata": {},
   "outputs": [
    {
     "name": "stdout",
     "output_type": "stream",
     "text": [
      "(60000, 28, 28)\n",
      "(60000, 784)\n",
      "(500, 784)\n",
      "(784,)\n",
      "(500,)\n",
      "[260.99808428 246.44066223 246.40008117 248.26195842 248.02016047\n",
      " 260.82561224 257.22558193 257.14392857 247.24279565 245.86785068]\n",
      "[496 333  58 102  17]\n",
      "240.70313666423212 240.70313666423212 [241.13481706298657]\n"
     ]
    }
   ],
   "source": [
    "import keras\n",
    "from matplotlib import pyplot\n",
    "import pickle\n",
    "\n",
    "fashion_mnist = keras.datasets.fashion_mnist\n",
    "(train_images, train_labels), (_, _1) = fashion_mnist.load_data()\n",
    "print(train_images.shape)\n",
    "train_images=train_images.reshape(60000,-1)\n",
    "print(train_images.shape)\n",
    "train_images1=train_images[:500,:]\n",
    "print(train_images1.shape)\n",
    "img=train_images[6000,:]\n",
    "print(img.shape)\n",
    "dist=np.sqrt(np.sum(np.square(train_images1-img),axis=1))\n",
    "print(dist.shape)\n",
    "print(dist[:10])\n",
    "min_ind=dist.argsort()[:5]\n",
    "print(min_ind)\n",
    "print(dist[496],dist[333],[dist[58]])"
   ]
  },
  {
   "cell_type": "code",
   "execution_count": 159,
   "metadata": {},
   "outputs": [
    {
     "name": "stdout",
     "output_type": "stream",
     "text": [
      "[   3. 1000. 2000.]\n"
     ]
    }
   ],
   "source": [
    "x = np.array([3,1000, 2000, 0., 1.0,2.0]) \n",
    "x=x[x>2]\n",
    "print(x)"
   ]
  },
  {
   "cell_type": "code",
   "execution_count": 161,
   "metadata": {},
   "outputs": [
    {
     "name": "stdout",
     "output_type": "stream",
     "text": [
      "False\n"
     ]
    }
   ],
   "source": [
    "lis1 = [0, 10, 5, 15, 77]\n",
    "print(all(lis1))\n"
   ]
  },
  {
   "cell_type": "markdown",
   "metadata": {},
   "source": [
    "### numpy.where\n",
    "- Return elements chosen from x or y depending on condition."
   ]
  },
  {
   "cell_type": "code",
   "execution_count": 52,
   "metadata": {},
   "outputs": [
    {
     "name": "stdout",
     "output_type": "stream",
     "text": [
      "(array([2, 4, 5]),)\n"
     ]
    }
   ],
   "source": [
    "arr_rand=np.array([1,2,10,5,100,50])\n",
    "res = np.where(arr_rand > 5)\n",
    "print(res)"
   ]
  },
  {
   "cell_type": "markdown",
   "metadata": {},
   "source": [
    "### Replace Elements with numpy.where()"
   ]
  },
  {
   "cell_type": "code",
   "execution_count": 57,
   "metadata": {},
   "outputs": [
    {
     "name": "stdout",
     "output_type": "stream",
     "text": [
      "[ 3  3 10  3 10 10]\n"
     ]
    }
   ],
   "source": [
    "arr_rand=np.array([1,2,10,5,100,50])\n"
   ]
  },
  {
   "cell_type": "markdown",
   "metadata": {},
   "source": [
    "### How to save and load numpy objects?"
   ]
  },
  {
   "cell_type": "code",
   "execution_count": null,
   "metadata": {},
   "outputs": [],
   "source": []
  },
  {
   "cell_type": "markdown",
   "metadata": {},
   "source": [
    "## Normal Distribution\n",
    "The Normal Distribution is one of the most important distributions.\n",
    "\n",
    "It is also called the Gaussian Distribution after the German mathematician Carl Friedrich Gauss.\n",
    "\n",
    "It fits the probability distribution of many events, eg. IQ Scores, Heartbeat etc.\n",
    "\n",
    "Use the random.normal() method to get a Normal Data Distribution.\n",
    "\n",
    "It has three parameters:\n",
    "\n",
    "loc - (Mean) where the peak of the bell exists.\n",
    "\n",
    "scale - (Standard Deviation) how flat the graph distribution should be.\n",
    "\n",
    "size - The shape of the returned array.\n",
    "\n"
   ]
  },
  {
   "cell_type": "code",
   "execution_count": null,
   "metadata": {},
   "outputs": [],
   "source": []
  }
 ],
 "metadata": {
  "kernelspec": {
   "display_name": "Python 3",
   "language": "python",
   "name": "python3"
  },
  "language_info": {
   "codemirror_mode": {
    "name": "ipython",
    "version": 3
   },
   "file_extension": ".py",
   "mimetype": "text/x-python",
   "name": "python",
   "nbconvert_exporter": "python",
   "pygments_lexer": "ipython3",
   "version": "3.7.4"
  }
 },
 "nbformat": 4,
 "nbformat_minor": 2
}
